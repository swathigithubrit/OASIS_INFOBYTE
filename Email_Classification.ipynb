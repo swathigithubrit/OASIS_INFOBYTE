{
 "cells": [
  {
   "cell_type": "code",
   "execution_count": null,
   "id": "aa48a252-9e27-4c2c-b69c-f639d7c2942c",
   "metadata": {},
   "outputs": [],
   "source": [
    "pip install pandas numpy scikit-learn nltk"
   ]
  },
  {
   "cell_type": "code",
   "execution_count": null,
   "id": "8faac1f4-a4c4-4054-a03e-9505b16ed819",
   "metadata": {},
   "outputs": [],
   "source": [
    "import pandas as pd\n",
    "import numpy as np\n",
    "import nltk\n",
    "import string\n",
    "import re\n",
    "\n",
    "from sklearn.model_selection import train_test_split\n",
    "from sklearn.feature_extraction.text import TfidfVectorizer\n",
    "from sklearn.naive_bayes import MultinomialNB\n",
    "from sklearn.metrics import accuracy_score, classification_report, confusion_matrix"
   ]
  },
  {
   "cell_type": "code",
   "execution_count": null,
   "id": "136c8215-f5e5-4d1e-a459-8d2e8bb6f879",
   "metadata": {},
   "outputs": [],
   "source": [
    "df = pd.read_csv(\"C:/Users/swath/Downloads/spam.csv\", encoding='latin-1')\n",
    "df.head()"
   ]
  },
  {
   "cell_type": "code",
   "execution_count": null,
   "id": "bc6ffb81-91b4-477e-853e-7b1a8e155959",
   "metadata": {},
   "outputs": [],
   "source": [
    "#Performing the Exploratory Data Analysis Before checking the Spam Classification\n",
    "#Summary of dataset(columns, datatypes, non-null values)\n",
    "df.info()"
   ]
  },
  {
   "cell_type": "code",
   "execution_count": null,
   "id": "ddc84a8b-7dc1-4f47-83c5-08082097e90a",
   "metadata": {},
   "outputs": [],
   "source": [
    "#Count of spam and ham messages\n",
    "df['v1'].value_counts()"
   ]
  },
  {
   "cell_type": "code",
   "execution_count": null,
   "id": "5d424bf2-1d32-48b5-9e94-281fac1a19bc",
   "metadata": {},
   "outputs": [],
   "source": [
    "import seaborn as sns\n",
    "import matplotlib.pyplot as plt\n",
    "\n",
    "sns.countplot(x=df['v1'])\n",
    "plt.title(\"Spam vs. Ham Distribution\")\n",
    "plt.xlabel(\"Email Type (ham = 0, spam = 1)\")\n",
    "plt.ylabel(\"Count\")\n",
    "plt.show()"
   ]
  },
  {
   "cell_type": "code",
   "execution_count": null,
   "id": "d8f1c9a9-10a1-48dd-a199-2a6bff53c6c2",
   "metadata": {},
   "outputs": [],
   "source": [
    "# Check for missing values\n",
    "df.isnull().sum()"
   ]
  },
  {
   "cell_type": "code",
   "execution_count": null,
   "id": "f9ce0a84-5f23-4142-a626-62b16149cd05",
   "metadata": {},
   "outputs": [],
   "source": [
    "#Add a column for message length\n",
    "df['message_length'] = df['v2'].apply(len)\n",
    "\n",
    "#Display statistics\n",
    "df[['v1', 'message_length']].groupby('v1').describe()\n"
   ]
  },
  {
   "cell_type": "code",
   "execution_count": null,
   "id": "b559b87e-93eb-4715-b910-000269a9d85e",
   "metadata": {},
   "outputs": [],
   "source": [
    "plt.figure(figsize=(10,5))\n",
    "sns.histplot(df[df['v1']=='ham']['message_length'], bins=50, label=\"Ham\", color='blue', kde=True)\n",
    "sns.histplot(df[df['v1']=='spam']['message_length'], bins=50, label=\"Spam\", color='red', kde=True)\n",
    "plt.title(\"Distribution of Message Lengths\")\n",
    "plt.xlabel(\"Message Length\")\n",
    "plt.ylabel(\"Frequency\")\n",
    "plt.legend()\n",
    "plt.show()"
   ]
  },
  {
   "cell_type": "code",
   "execution_count": null,
   "id": "c044d9a7-0782-4d44-9ecb-041a9894d5e5",
   "metadata": {},
   "outputs": [],
   "source": [
    "from collections import Counter\n",
    "import itertools\n",
    "\n",
    "#Tokenizing words\n",
    "ham_words = list(itertools.chain(*[message.split() for message in df[df['v1'] == 'ham']['v2']]))\n",
    "spam_words = list(itertools.chain(*[message.split() for message in df[df['v1'] == 'spam']['v2']]))\n",
    "\n",
    "#Counting the most common words\n",
    "ham_common = Counter(ham_words).most_common(20)\n",
    "spam_common = Counter(spam_words).most_common(20)\n",
    "\n",
    "#Convert it into DataFrame for visualization\n",
    "ham_df = pd.DataFrame(ham_common, columns=['Word', 'Count'])\n",
    "spam_df = pd.DataFrame(spam_common, columns=['Word', 'Count'])\n",
    "\n",
    "#Plotting the data \n",
    "fig, axes = plt.subplots(1, 2, figsize=(12,5))\n",
    "sns.barplot(x=\"Count\", y=\"Word\", data=ham_df, ax=axes[0], palette=\"Blues_r\")\n",
    "axes[0].set_title(\"Top Words in Ham Messages\")\n",
    "\n",
    "sns.barplot(x=\"Count\", y=\"Word\", data=spam_df, ax=axes[1], palette=\"Reds_r\")\n",
    "axes[1].set_title(\"Top Words in Spam Messages\")\n",
    "\n",
    "plt.show()"
   ]
  },
  {
   "cell_type": "code",
   "execution_count": null,
   "id": "96fd7e46-4151-4afd-b878-2793b5057dd8",
   "metadata": {},
   "outputs": [],
   "source": [
    "print(df.columns) "
   ]
  },
  {
   "cell_type": "code",
   "execution_count": null,
   "id": "b91f83c3-a045-48bf-9103-1e3121dd2aeb",
   "metadata": {},
   "outputs": [],
   "source": [
    "df.columns = df.columns.str.strip()\n",
    "print(df.columns)"
   ]
  },
  {
   "cell_type": "code",
   "execution_count": null,
   "id": "4c4f4f41-c6fb-4f6f-84ba-33b19684980b",
   "metadata": {},
   "outputs": [],
   "source": [
    "df = df[['v1', 'v2']] \n",
    "df.columns = ['labels', 'message']\n",
    "df.head()"
   ]
  },
  {
   "cell_type": "code",
   "execution_count": null,
   "id": "5aaab100-a4fc-4b20-a2c2-9dfe662e884e",
   "metadata": {},
   "outputs": [],
   "source": [
    "print(df.columns)"
   ]
  },
  {
   "cell_type": "code",
   "execution_count": null,
   "id": "ce41d975-8b7b-49bc-8be9-b421bf63d663",
   "metadata": {},
   "outputs": [],
   "source": [
    "import nltk\n",
    "from nltk.corpus import stopwords\n",
    "from nltk.stem import PorterStemmer\n",
    "import re\n",
    "import string\n",
    "\n",
    "nltk.download('stopwords')\n",
    "\n",
    "stemmer = PorterStemmer()\n",
    "stop_words = set(stopwords.words(\"english\"))\n",
    "def clean_text(text):\n",
    "    \n",
    "    text = text.lower()\n",
    "    \n",
    "    # Remove special characters, numbers, and punctuation\n",
    "    text = re.sub(r'\\W', ' ', text)  # Replace non-word characters with space\n",
    "    text = re.sub(r'\\s+', ' ', text)  # Remove extra spaces\n",
    "    text = re.sub(r'\\d', '', text)  # Remove numbers\n",
    "    \n",
    "    words = text.split()\n",
    "    words = [stemmer.stem(word) for word in words if word not in stop_words]\n",
    "    \n",
    "    return ' '.join(words)\n",
    "\n",
    "\n",
    "df['cleaned_text'] = df['message'].apply(clean_text)\n",
    "df[['message', 'cleaned_text']].head() \n"
   ]
  },
  {
   "cell_type": "code",
   "execution_count": null,
   "id": "4640359c-3fd7-4a2c-9cbd-b6dbd0884c3d",
   "metadata": {},
   "outputs": [],
   "source": [
    "from sklearn.feature_extraction.text import TfidfVectorizer\n",
    "\n",
    "#Convert text data into numerical features using TF-IDF\n",
    "tfidf = TfidfVectorizer(max_features=3000)  #Keep top 3000 important words\n",
    "X = tfidf.fit_transform(df['cleaned_text']).toarray()\n",
    "\n",
    "\n",
    "df['label'] = df['labels'].map({'ham': 0, 'spam': 1})  \n",
    "\n",
    "\n",
    "y = df['label'].values\n",
    "\n",
    "print(X.shape)  \n",
    "print(y[:5])   \n"
   ]
  },
  {
   "cell_type": "code",
   "execution_count": null,
   "id": "65f5bdd7-2d69-4978-95e1-adfd168f9c33",
   "metadata": {},
   "outputs": [],
   "source": [
    "from sklearn.feature_extraction.text import TfidfVectorizer\n",
    "from sklearn.model_selection import train_test_split\n",
    "\n",
    "# Convert text data into numerical features using TF-IDF\n",
    "vectorizer = TfidfVectorizer(max_features=5000)  #Keep top 5000 important words\n",
    "X = vectorizer.fit_transform(df['cleaned_text']).toarray() \n",
    "\n",
    "# Extract target labels\n",
    "y = df['label']  \n",
    "\n",
    "# Split the dataset into training and testing sets (80% train, 20% test)\n",
    "X_train, X_test, y_train, y_test = train_test_split(X, y, test_size=0.2, random_state=42)\n",
    "\n",
    "#Check the shape of training and testing data\n",
    "X_train.shape, X_test.shape\n"
   ]
  },
  {
   "cell_type": "code",
   "execution_count": null,
   "id": "dd81e825-e6b2-475b-9122-551a6f043d72",
   "metadata": {},
   "outputs": [],
   "source": [
    "from sklearn.naive_bayes import MultinomialNB\n",
    "from sklearn.metrics import accuracy_score, classification_report\n",
    "\n",
    "#Initialize and train the Naïve Bayes model\n",
    "model = MultinomialNB()\n",
    "model.fit(X_train, y_train)\n",
    "\n",
    "#Make predictions on the test set\n",
    "y_pred = model.predict(X_test)\n",
    "\n",
    "#Calculating  accuracy\n",
    "accuracy = accuracy_score(y_test, y_pred)\n",
    "print(f\"Accuracy: {accuracy:.2f}\")  # Print accuracy with 2 decimal places\n",
    "\n",
    "#Print classification report (precision, recall, F1-score, etc.)\n",
    "print(classification_report(y_test, y_pred))\n"
   ]
  },
  {
   "cell_type": "code",
   "execution_count": null,
   "id": "87be8d80-a957-45a0-b01b-1733ce43f50e",
   "metadata": {},
   "outputs": [],
   "source": [
    "import seaborn as sns\n",
    "import matplotlib.pyplot as plt\n",
    "\n",
    "cm = confusion_matrix(y_test, y_pred)\n",
    "sns.heatmap(cm, annot=True, fmt='d', cmap='Blues', xticklabels=['Ham', 'Spam'], yticklabels=['Ham', 'Spam'])\n",
    "plt.xlabel(\"Predicted\")\n",
    "plt.ylabel(\"Actual\")\n",
    "plt.title(\"Confusion Matrix\")\n",
    "plt.show()"
   ]
  },
  {
   "cell_type": "code",
   "execution_count": null,
   "id": "780f1377-0be0-4dd4-be49-65e4b476fb63",
   "metadata": {},
   "outputs": [],
   "source": [
    "def predict_spam(email):\n",
    "    email = preprocess_text(email)\n",
    "    vectorized_email = vectorizer.transform([email]).toarray()\n",
    "    prediction = model.predict(vectorized_email)\n",
    "    return \"Spam\" if prediction[0] == 1 else \"Not Spam\"\n",
    "    \n",
    "test_email = \"Congratulations! You have won a $1000 gift card. Click here to claim your prize.\"\n",
    "print(predict_spam(test_email))\n"
   ]
  }
 ],
 "metadata": {
  "kernelspec": {
   "display_name": "Python 3 (ipykernel)",
   "language": "python",
   "name": "python3"
  },
  "language_info": {
   "codemirror_mode": {
    "name": "ipython",
    "version": 3
   },
   "file_extension": ".py",
   "mimetype": "text/x-python",
   "name": "python",
   "nbconvert_exporter": "python",
   "pygments_lexer": "ipython3",
   "version": "3.11.2"
  }
 },
 "nbformat": 4,
 "nbformat_minor": 5
}
