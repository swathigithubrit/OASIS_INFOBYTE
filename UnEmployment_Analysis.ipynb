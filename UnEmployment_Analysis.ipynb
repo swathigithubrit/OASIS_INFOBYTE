{
 "cells": [
  {
   "cell_type": "code",
   "execution_count": 5,
   "id": "f4296be4-bfef-4c1b-b726-3934bf47d024",
   "metadata": {},
   "outputs": [
    {
     "name": "stdout",
     "output_type": "stream",
     "text": [
      "C:\\Users\\swath\n"
     ]
    }
   ],
   "source": [
    "import os\n",
    "print(os.getcwd())  # This prints the current working directory\n"
   ]
  },
  {
   "cell_type": "code",
   "execution_count": null,
   "id": "919f4d13-0490-459b-ae8f-371597dcc3ab",
   "metadata": {},
   "outputs": [],
   "source": [
    "import pandas as pd\n",
    "import matplotlib.pyplot as plt\n",
    "import seaborn as sns"
   ]
  },
  {
   "cell_type": "code",
   "execution_count": null,
   "id": "ad7081ee-7a99-4ea3-854d-a90e5a07c8c8",
   "metadata": {},
   "outputs": [],
   "source": [
    "file_path1=  \"C:/Users/swath/Downloads/Unemployment/Unemployment in India.csv\"\n",
    "file_path2=  \"C:/Users/swath/Downloads/Unemployment/Unemployment_Rate_upto_11_2020.csv\""
   ]
  },
  {
   "cell_type": "code",
   "execution_count": null,
   "id": "c0dfe213-9f71-435e-b9ec-6b0a1573fedb",
   "metadata": {},
   "outputs": [],
   "source": [
    "df1 = pd.read_csv(file_path1)\n",
    "df2 = pd.read_csv(file_path2)"
   ]
  },
  {
   "cell_type": "code",
   "execution_count": null,
   "id": "9a1d03ba-4a9e-4873-b5a4-0c5c535b82d7",
   "metadata": {},
   "outputs": [],
   "source": [
    "print(\"Dataset 1 Preview:\")\n",
    "display(df1.head())"
   ]
  },
  {
   "cell_type": "code",
   "execution_count": null,
   "id": "54d1d758-2dec-472b-adbc-7a02268d4b71",
   "metadata": {},
   "outputs": [],
   "source": [
    "print(\"Dataset 2 Preview:\")\n",
    "display(df2.head())"
   ]
  },
  {
   "cell_type": "code",
   "execution_count": null,
   "id": "640e261e-b77e-48a0-a72a-2b1a1668ed64",
   "metadata": {},
   "outputs": [],
   "source": [
    "print(\"\\nMissing Values in Dataset 1:\")\n",
    "print(df1.isnull().sum())"
   ]
  },
  {
   "cell_type": "code",
   "execution_count": null,
   "id": "1cfc7ad7-32d8-4c88-ab95-4883aa8cd3c0",
   "metadata": {},
   "outputs": [],
   "source": [
    "print(\"\\nMissing Values in Dataset 2:\")\n",
    "print(df2.isnull().sum())"
   ]
  },
  {
   "cell_type": "code",
   "execution_count": null,
   "id": "c6fb40ba-c165-4084-aae6-1500b1814d7f",
   "metadata": {},
   "outputs": [],
   "source": [
    "print(\"\\nStatistical Summary of Dataset 1:\")\n",
    "print(df1.describe())\n",
    "print(\"\\nStatistical Summary of Dataset 2:\")\n",
    "print(df2.describe())"
   ]
  },
  {
   "cell_type": "code",
   "execution_count": null,
   "id": "19b93a53-a00d-4be0-8b86-af5e7c8d38a5",
   "metadata": {},
   "outputs": [],
   "source": [
    "print(\"\\nColumn Names in Dataset 1:\")\n",
    "print(df1.columns)\n",
    "print(\"\\nColumn Names in Dataset 2:\")\n",
    "print(df2.columns)"
   ]
  },
  {
   "cell_type": "code",
   "execution_count": null,
   "id": "4f25d75b-1d14-4f3e-95f1-d8b75f5a7fba",
   "metadata": {},
   "outputs": [],
   "source": [
    "df1.columns = df1.columns.str.strip()\n",
    "df2.columns = df2.columns.str.strip()"
   ]
  },
  {
   "cell_type": "code",
   "execution_count": null,
   "id": "4932e58c-fda8-4113-8144-bd482c2a4323",
   "metadata": {},
   "outputs": [],
   "source": [
    "df1['Date'] = pd.to_datetime(df1['Date'], dayfirst=True)\n",
    "df2['Date'] = pd.to_datetime(df2['Date'], dayfirst=True)\n"
   ]
  },
  {
   "cell_type": "code",
   "execution_count": null,
   "id": "06d4840d-5ba2-4120-a22c-b6acd13afcf7",
   "metadata": {},
   "outputs": [],
   "source": [
    "# Merge the datasets on common columns\n",
    "df_merged = pd.merge(df1, df2, on=['Region', 'Date'], how='outer')\n",
    "\n",
    "# Fill missing values from _y columns using _x columns\n",
    "columns_to_fill = [\n",
    "    'Estimated Unemployment Rate (%)_y',\n",
    "    'Estimated Employed_y',\n",
    "    'Estimated Labour Participation Rate (%)_y',\n",
    "    'Frequency_y'\n",
    "]\n",
    "\n",
    "for col in columns_to_fill:\n",
    "    col_x = col.replace(\"_y\", \"_x\")  # Find the corresponding _x column\n",
    "    if col_x in df_merged.columns and col in df_merged.columns:\n",
    "        df_merged[col] = df_merged[col].combine_first(df_merged[col_x])\n",
    "\n",
    "# Drop redundant _x columns\n",
    "df_merged.drop(columns=[col.replace(\"_y\", \"_x\") for col in columns_to_fill], inplace=True, errors='ignore')\n",
    "\n",
    "# Rename columns properly\n",
    "df_merged.rename(columns={\n",
    "    'Estimated Unemployment Rate (%)_y': 'Estimated Unemployment Rate (%)',\n",
    "    'Estimated Employed_y': 'Estimated Employed',\n",
    "    'Estimated Labour Participation Rate (%)_y': 'Estimated Labour Participation Rate (%)',\n",
    "    'Frequency_y': 'Frequency'\n",
    "}, inplace=True)\n",
    "\n",
    "# Drop unnecessary 'Region.1' column\n",
    "df_merged.drop(columns=['Region.1'], inplace=True, errors='ignore')\n",
    "\n",
    "# Display cleaned dataset\n",
    "print(\"\\nCleaned Merged Dataset:\")\n",
    "display(df_merged.head())\n"
   ]
  },
  {
   "cell_type": "code",
   "execution_count": null,
   "id": "95723c64-d8ec-4ba3-ac94-71e78fd81cb8",
   "metadata": {},
   "outputs": [],
   "source": [
    "# Ensure column names are consistent\n",
    "df2.rename(columns={'Longitude': 'longitude', 'Latitude': 'latitude'}, inplace=True)\n",
    "\n",
    "# Merge using 'Region' instead of 'Region' and 'Date' (if location is constant for a region)\n",
    "df_merged = pd.merge(df1, df2[['Region', 'longitude', 'latitude']], on='Region', how='left')\n",
    "\n",
    "# Display the cleaned merged dataset\n",
    "# display(df_merged.head())\n",
    "df_merged\n"
   ]
  },
  {
   "cell_type": "code",
   "execution_count": null,
   "id": "94cab991-0e01-4c01-9c95-c2b6b0029ff5",
   "metadata": {},
   "outputs": [],
   "source": [
    "print(df1['Date'].dtype, df2['Date'].dtype)\n",
    "print(df1['Date'].unique()[:5])  # Check first few unique dates in df1\n",
    "print(df2['Date'].unique()[:5])  # Check first few unique dates in df2\n"
   ]
  },
  {
   "cell_type": "code",
   "execution_count": null,
   "id": "d7276dc9-7d75-41d9-9661-eeaab22a03b4",
   "metadata": {},
   "outputs": [],
   "source": [
    "df2_subset = df2[['Region', 'Zone', 'longitude', 'latitude']].drop_duplicates()\n",
    "\n",
    "df_merged = pd.merge(df1, df2_subset, on='Region', how='left')\n",
    "df1 = df1[df1['Date'] >= df2['Date'].min()]\n"
   ]
  },
  {
   "cell_type": "code",
   "execution_count": null,
   "id": "9b8e2f88-38c1-46d5-8beb-f554b2ab34e3",
   "metadata": {},
   "outputs": [],
   "source": [
    "# Ensure 'Date' is in the correct format\n",
    "df1['Date'] = pd.to_datetime(df1['Date'])\n",
    "df2['Date'] = pd.to_datetime(df2['Date'])\n",
    "\n",
    "# Rename columns in df2 for consistency\n",
    "df2.rename(columns={'Region.1': 'Zone'}, inplace=True)\n",
    "\n",
    "# Select required columns from df2\n",
    "df2_subset = df2[['Region', 'Date', 'Zone', 'longitude', 'latitude']]\n",
    "\n",
    "# Merge the datasets on 'Region' and 'Date'\n",
    "df_merged = pd.merge(df1, df2_subset, on=['Region', 'Date'], how='left')\n",
    "\n",
    "# Display merged dataset preview\n",
    "print(\"\\nMerged Dataset Preview:\")\n",
    "display(df_merged.head())\n"
   ]
  },
  {
   "cell_type": "code",
   "execution_count": null,
   "id": "1573fdce-e9d4-4133-83e7-a1976d3c5cf0",
   "metadata": {},
   "outputs": [],
   "source": [
    "df_merged"
   ]
  },
  {
   "cell_type": "code",
   "execution_count": null,
   "id": "04ce96c5-5bcf-480d-bde0-adc29a90f0ae",
   "metadata": {},
   "outputs": [],
   "source": [
    "plt.figure(figsize=(12, 6))\n",
    "sns.lineplot(x='Date', y='Estimated Unemployment Rate (%)', data=df_merged, marker='o', color='b')\n",
    "plt.title(\"Unemployment Rate Over Time\")\n",
    "plt.xlabel(\"Date\")\n",
    "plt.ylabel(\"Estimated Unemployment Rate (%)\")\n",
    "plt.xticks(rotation=45)\n",
    "plt.grid(True)\n",
    "plt.show()\n"
   ]
  },
  {
   "cell_type": "code",
   "execution_count": null,
   "id": "e567b377-12a8-4faa-ba8a-d91ac0f99957",
   "metadata": {},
   "outputs": [],
   "source": [
    "plt.figure(figsize=(8, 5))\n",
    "sns.histplot(df_merged['Estimated Unemployment Rate (%)'], bins=20, kde=True, color='r')\n",
    "plt.title(\"Distribution of Estimated Unemployment Rate\")\n",
    "plt.xlabel(\"Estimated Unemployment (%)\")\n",
    "plt.ylabel(\"Frequency\")\n",
    "plt.show()\n"
   ]
  },
  {
   "cell_type": "code",
   "execution_count": null,
   "id": "d56331d0-16fe-44bb-93df-ce270effe49b",
   "metadata": {},
   "outputs": [],
   "source": [
    "plt.figure(figsize=(12, 6))\n",
    "sns.boxplot(x='Region', y='Estimated Unemployment Rate (%)', data=df_merged)\n",
    "plt.xticks(rotation=90)\n",
    "plt.title(\"Unemployment Rate by Region\")\n",
    "plt.xlabel(\"Region\")\n",
    "plt.ylabel(\"Estimated Unemployment Rate (%)\")\n",
    "plt.show()"
   ]
  },
  {
   "cell_type": "code",
   "execution_count": null,
   "id": "6f43c66b-75c0-41f6-8e29-4d4825f8b0bc",
   "metadata": {},
   "outputs": [],
   "source": [
    "plt.figure(figsize=(8, 5))\n",
    "numeric_df = df_merged.select_dtypes(include=['number'])  # Selecting only numerical columns\n",
    "sns.heatmap(numeric_df.corr(), annot=True, cmap='coolwarm', fmt='.2f', linewidths=0.5)\n",
    "plt.title(\"Correlation Heatmap\")\n",
    "plt.show()\n"
   ]
  },
  {
   "cell_type": "code",
   "execution_count": null,
   "id": "e34ae72e-c499-4512-b74a-d1267e463432",
   "metadata": {},
   "outputs": [],
   "source": [
    "plt.figure(figsize=(10, 6))\n",
    "sns.scatterplot(x='longitude', y='latitude', hue='Estimated Unemployment Rate (%)', size='Estimated Unemployment Rate (%)', data=df_merged, palette='coolwarm', sizes=(20, 200))\n",
    "plt.title(\"Unemployment Rate by Location\")\n",
    "plt.xlabel(\"Longitude\")\n",
    "plt.ylabel(\"Latitude\")\n",
    "plt.show()\n"
   ]
  },
  {
   "cell_type": "code",
   "execution_count": null,
   "id": "a6780185-94d3-4f6c-8e49-464de7c7ee7e",
   "metadata": {},
   "outputs": [],
   "source": [
    "print(\"\\nUnemployment Analysis:\")\n",
    "avg_unemployment = df_merged['Estimated Unemployment Rate (%)'].mean()\n",
    "max_unemployment = df_merged['Estimated Unemployment Rate (%)'].max()\n",
    "min_unemployment = df_merged['Estimated Unemployment Rate (%)'].min()\n",
    "print(f\"Average Unemployment Rate: {avg_unemployment:.2f}%\")\n",
    "print(f\"Highest Unemployment Rate: {max_unemployment:.2f}%\")\n",
    "print(f\"Lowest Unemployment Rate: {min_unemployment:.2f}%\")"
   ]
  },
  {
   "cell_type": "code",
   "execution_count": null,
   "id": "0e726eb4-85a4-4405-acf8-0b7b28463605",
   "metadata": {},
   "outputs": [],
   "source": [
    "highest_region = df_merged[df_merged['Estimated Unemployment Rate (%)'] == max_unemployment]['Region'].values[0]\n",
    "lowest_region = df_merged[df_merged['Estimated Unemployment Rate (%)'] == min_unemployment]['Region'].values[0]\n",
    "print(f\"Region with Highest Unemployment Rate: {highest_region}\")\n",
    "print(f\"Region with Lowest Unemployment Rate: {lowest_region}\")\n"
   ]
  }
 ],
 "metadata": {
  "kernelspec": {
   "display_name": "Python 3 (ipykernel)",
   "language": "python",
   "name": "python3"
  },
  "language_info": {
   "codemirror_mode": {
    "name": "ipython",
    "version": 3
   },
   "file_extension": ".py",
   "mimetype": "text/x-python",
   "name": "python",
   "nbconvert_exporter": "python",
   "pygments_lexer": "ipython3",
   "version": "3.11.2"
  }
 },
 "nbformat": 4,
 "nbformat_minor": 5
}
